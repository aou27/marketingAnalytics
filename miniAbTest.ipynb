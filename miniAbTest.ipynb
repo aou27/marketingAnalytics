{
 "cells": [
  {
   "cell_type": "markdown",
   "metadata": {},
   "source": [
    "Dataset Resource: https://www.kaggle.com/datasets/faviovaz/marketing-ab-testing?resource=download\n",
    "\n",
    "Process Resource: https://www.kaggle.com/code/ekrembayar/a-b-testing-step-by-step-hypothesis-testing\n"
   ]
  },
  {
   "cell_type": "code",
   "execution_count": 36,
   "metadata": {},
   "outputs": [],
   "source": [
    "import numpy as np\n",
    "import pandas as pd \n",
    "import seaborn as sns\n",
    "import matplotlib.pyplot as plt\n",
    "import os\n",
    "import warnings\n",
    "warnings.filterwarnings(\"ignore\")\n",
    "\n",
    "# Hypothesis Testing\n",
    "from scipy.stats import shapiro\n",
    "import scipy.stats as stats\n"
   ]
  },
  {
   "cell_type": "code",
   "execution_count": 37,
   "metadata": {},
   "outputs": [
    {
     "name": "stdout",
     "output_type": "stream",
     "text": [
      "588101\n",
      "7\n",
      "<class 'pandas.core.frame.DataFrame'>\n",
      "RangeIndex: 588101 entries, 0 to 588100\n",
      "Data columns (total 7 columns):\n",
      " #   Column         Non-Null Count   Dtype \n",
      "---  ------         --------------   ----- \n",
      " 0   Unnamed: 0     588101 non-null  int64 \n",
      " 1   user id        588101 non-null  int64 \n",
      " 2   test group     588101 non-null  object\n",
      " 3   converted      588101 non-null  bool  \n",
      " 4   total ads      588101 non-null  int64 \n",
      " 5   most ads day   588101 non-null  object\n",
      " 6   most ads hour  588101 non-null  int64 \n",
      "dtypes: bool(1), int64(4), object(2)\n",
      "memory usage: 27.5+ MB\n",
      "None\n",
      "<bound method NDFrame.head of         Unnamed: 0  user id test group  converted  total ads most ads day  \\\n",
      "0                0  1069124         ad      False        130       Monday   \n",
      "1                1  1119715         ad      False         93      Tuesday   \n",
      "2                2  1144181         ad      False         21      Tuesday   \n",
      "3                3  1435133         ad      False        355      Tuesday   \n",
      "4                4  1015700         ad      False        276       Friday   \n",
      "...            ...      ...        ...        ...        ...          ...   \n",
      "588096      588096  1278437         ad      False          1      Tuesday   \n",
      "588097      588097  1327975         ad      False          1      Tuesday   \n",
      "588098      588098  1038442         ad      False          3      Tuesday   \n",
      "588099      588099  1496395         ad      False          1      Tuesday   \n",
      "588100      588100  1237779         ad      False          1      Tuesday   \n",
      "\n",
      "        most ads hour  \n",
      "0                  20  \n",
      "1                  22  \n",
      "2                  18  \n",
      "3                  10  \n",
      "4                  14  \n",
      "...               ...  \n",
      "588096             23  \n",
      "588097             23  \n",
      "588098             23  \n",
      "588099             23  \n",
      "588100             23  \n",
      "\n",
      "[588101 rows x 7 columns]>\n"
     ]
    }
   ],
   "source": [
    "ABdf = pd.read_csv(\"../practiceABTest/marketing_AB.csv\")\n",
    "\n",
    "#print(ABdf.columns) #checking column names\n",
    "print(len(ABdf.index)) #number of rows\n",
    "print(len(ABdf.columns)) #number of columns\n",
    "\n",
    "#checking the essence of the data \n",
    "print(ABdf.info())\n",
    "\n",
    "print(ABdf.head)"
   ]
  },
  {
   "cell_type": "code",
   "execution_count": 38,
   "metadata": {},
   "outputs": [],
   "source": [
    "ABdf.dropna\n",
    "\n",
    "#checking for missing values\n",
    "#print(ABdf.isnull().sum())\n",
    "#print(ABdf.isna().sum())\n",
    "\n",
    "# Do not need \"most ads day\" and \"most ads hour\" because this analysis focuses on general conversion; \"Unnamed: 0\" is just a duplicate of the index\n",
    "ABdf = ABdf.drop(columns= {\"most ads day\", \"most ads hour\", \"Unnamed: 0\"}) "
   ]
  },
  {
   "cell_type": "code",
   "execution_count": 39,
   "metadata": {},
   "outputs": [
    {
     "name": "stdout",
     "output_type": "stream",
     "text": [
      "            user id      total ads\n",
      "count  5.881010e+05  588101.000000\n",
      "mean   1.310692e+06      24.820876\n",
      "std    2.022260e+05      43.715181\n",
      "min    9.000000e+05       1.000000\n",
      "25%    1.143190e+06       4.000000\n",
      "50%    1.313725e+06      13.000000\n",
      "75%    1.484088e+06      27.000000\n",
      "max    1.654483e+06    2065.000000\n"
     ]
    }
   ],
   "source": [
    "print(ABdf.describe())"
   ]
  },
  {
   "cell_type": "code",
   "execution_count": 40,
   "metadata": {},
   "outputs": [
    {
     "name": "stdout",
     "output_type": "stream",
     "text": [
      "            user id  converted  total ads\n",
      "user id    1.000000   0.000635   0.012336\n",
      "converted  0.000635   1.000000   0.217419\n",
      "total ads  0.012336   0.217419   1.000000\n"
     ]
    }
   ],
   "source": [
    "abdf = ABdf.drop(columns= {\"test group\"}) \n",
    "print(abdf.corr())"
   ]
  },
  {
   "cell_type": "markdown",
   "metadata": {},
   "source": [
    "#put in Quarto as portfolio"
   ]
  }
 ],
 "metadata": {
  "kernelspec": {
   "display_name": "Python 3",
   "language": "python",
   "name": "python3"
  },
  "language_info": {
   "codemirror_mode": {
    "name": "ipython",
    "version": 3
   },
   "file_extension": ".py",
   "mimetype": "text/x-python",
   "name": "python",
   "nbconvert_exporter": "python",
   "pygments_lexer": "ipython3",
   "version": "3.11.7"
  }
 },
 "nbformat": 4,
 "nbformat_minor": 2
}
